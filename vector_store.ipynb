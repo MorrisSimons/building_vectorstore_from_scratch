{
 "cells": [
  {
   "cell_type": "markdown",
   "id": "48e0e105",
   "metadata": {},
   "source": [
    "# BUILD VECTOR STORE and  SEARCH From Scratch"
   ]
  },
  {
   "cell_type": "markdown",
   "id": "c6d41e68",
   "metadata": {},
   "source": [
    "\n",
    "# My plan\n",
    "- [ ] **Embeddings:** Train Word2Vec model to generate vector representations.\n",
    "    - [ ] my own custom made\n",
    "    - [ ] A normal one\n",
    "- [ ] **Vector Store:** Integrate a vector store library or database, such as FAISS - mabye do from scratch.\n",
    "    - [ ] my own custom made\n",
    "    - [ ] A common solution\n",
    "- [ ] **Indexing:** Use FAISS's indexing capabilities to enable fast similarity search and experiment with building a custom index.\n",
    "    - [ ] my own custom made\n",
    "    - [ ] a common one like FAISS Index\n",
    "- [ ] **Data Mapping:** Maintain a mapping between original data and their corresponding vectors to interpret search results accurately.\n",
    "- [ ] **Query/Similarity Function:** Implement a search function to query the vector store and retrieve the most similar vectors to a given input.\n",
    "    - [ ] my own custom made\n",
    "    - [ ] a common one like FAISS Search"
   ]
  },
  {
   "cell_type": "code",
   "execution_count": null,
   "id": "0b3080b1",
   "metadata": {},
   "outputs": [],
   "source": []
  },
  {
   "cell_type": "code",
   "execution_count": null,
   "id": "9a44271c",
   "metadata": {
    "vscode": {
     "languageId": "markdown"
    }
   },
   "outputs": [],
   "source": []
  }
 ],
 "metadata": {
  "kernelspec": {
   "display_name": "Python 3",
   "language": "python",
   "name": "python3"
  },
  "language_info": {
   "codemirror_mode": {
    "name": "ipython",
    "version": 3
   },
   "file_extension": ".py",
   "mimetype": "text/x-python",
   "name": "python",
   "nbconvert_exporter": "python",
   "pygments_lexer": "ipython3",
   "version": "3.10.12"
  }
 },
 "nbformat": 4,
 "nbformat_minor": 5
}

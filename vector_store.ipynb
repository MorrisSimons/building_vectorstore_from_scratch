{
 "cells": [
  {
   "cell_type": "markdown",
   "id": "05882bce",
   "metadata": {},
   "source": [
    "# Vector store"
   ]
  },
  {
   "cell_type": "code",
   "execution_count": 2,
   "id": "679f6740",
   "metadata": {},
   "outputs": [],
   "source": [
    "!pip install -q gensim"
   ]
  },
  {
   "cell_type": "code",
   "execution_count": 3,
   "id": "14b45435",
   "metadata": {},
   "outputs": [],
   "source": [
    "from gensim.models import Word2Vec\n",
    "from gensim.models.word2vec import LineSentence"
   ]
  },
  {
   "cell_type": "code",
   "execution_count": 4,
   "id": "c9541e9b",
   "metadata": {},
   "outputs": [],
   "source": [
    "# 1. Parameters\n",
    "VECTOR_SIZE = 100\n",
    "WINDOW      = 5\n",
    "MIN_COUNT   = 5\n",
    "WORKERS     = 4\n",
    "MAX_WORDS_IN_BATCH = 10000\n",
    "#MAX_WORDS From https://github.com/piskvorky/gensim/blob/develop/gensim/models/word2vec_inner.pyx#L27"
   ]
  },
  {
   "cell_type": "markdown",
   "id": "78484fb5",
   "metadata": {},
   "source": [
    "### CustomLineSentence"
   ]
  },
  {
   "cell_type": "code",
   "execution_count": 5,
   "id": "7c539367",
   "metadata": {},
   "outputs": [],
   "source": [
    "import itertools\n",
    "from gensim import utils\n",
    "\n",
    "class CustomLineSentence:\n",
    "    def __init__(self, source):\n",
    "        self.source = source\n",
    "\n",
    "    def __iter__(self):\n",
    "        \"\"\"Iterate through the lines in the source.\"\"\"\n",
    "        with utils.open(self.source, 'rb') as fin:\n",
    "            for line in itertools.islice(fin, None):\n",
    "                line = utils.to_unicode(line).split()\n",
    "                i = 0\n",
    "                while i < len(line):\n",
    "                    yield line[i: i + MAX_WORDS_IN_BATCH]\n",
    "                    i += MAX_WORDS_IN_BATCH"
   ]
  },
  {
   "cell_type": "code",
   "execution_count": 6,
   "id": "407a4ab7",
   "metadata": {},
   "outputs": [],
   "source": [
    "# 2. Load the text8 corpus as a stream of sentences\n",
    "sentences = CustomLineSentence('data/text8')"
   ]
  },
  {
   "cell_type": "code",
   "execution_count": null,
   "id": "27e66dc8",
   "metadata": {},
   "outputs": [],
   "source": [
    "class CustomWord2Vec:\n",
    "     def __init__(self,sentences):\n",
    "          self.sentences=sentences,\n",
    "          self.vector_size=VECTOR_SIZE,\n",
    "          self.window=WINDOW,\n",
    "          self.min_count=MIN_COUNT,\n",
    "          self.workers=WORKERS\n",
    "\n",
    "\n",
    "          # from Word2Vec parameters\n",
    "          self.shrink_windows=True\n",
    "          self.compute_loss=False\n",
    "          self.sorted_vocab=1\n",
    "          self.null_word=0\n",
    "          self.epochs=5\n",
    "          self.hashfxn=hash\n",
    "          self.cbow_mean=1\n",
    "          self.ns_exponent=0.75\n",
    "          self.negayive=5\n",
    "          self.hs=0\n",
    "          self.sg=0\n",
    "          self.min_alpha=0.0001\n",
    "          self.seed=1\n",
    "          self.sample=0.001\n",
    "          self.alpha=0.025\n",
    "          \n",
    "          \n",
    "          # normal init valuse\n",
    "          self.train_count = 0\n",
    "          self.total_train_time = 0\n",
    "          self.running_training_loss = 0\n",
    "          self.corpus_count = 0\n",
    "          self.corpus_total_words = 0\n",
    "\n",
    "\n",
    "     def build_vocab(sentences):\n",
    "          pass\n",
    "\n",
    "     def train():\n",
    "          pass\n",
    "     \n"
   ]
  },
  {
   "cell_type": "code",
   "execution_count": 7,
   "id": "0b3080b1",
   "metadata": {},
   "outputs": [
    {
     "name": "stdout",
     "output_type": "stream",
     "text": [
      "[('prince', 0.7557807564735413), ('queen', 0.7192922830581665), ('emperor', 0.7118654847145081), ('kings', 0.6876594424247742), ('throne', 0.6834253072738647), ('vii', 0.6774382591247559), ('pharaoh', 0.6575202345848083), ('aragon', 0.652104914188385), ('duke', 0.6518789529800415), ('regent', 0.6503574848175049)]\n"
     ]
    }
   ],
   "source": [
    "# 3. Train Word2Vec\n",
    "model = Word2Vec(\n",
    "    sentences,\n",
    "    vector_size=VECTOR_SIZE,\n",
    "    window=WINDOW,\n",
    "    min_count=MIN_COUNT,\n",
    "    workers=WORKERS\n",
    ")\n",
    "\n",
    "# 4. Save the trained model\n",
    "model.save('models/text8_w2v_100d.model')\n",
    "\n",
    "# 5. Quick sanity check\n",
    "print(model.wv.most_similar('king', topn=10))"
   ]
  }
 ],
 "metadata": {
  "kernelspec": {
   "display_name": "Python 3",
   "language": "python",
   "name": "python3"
  },
  "language_info": {
   "codemirror_mode": {
    "name": "ipython",
    "version": 3
   },
   "file_extension": ".py",
   "mimetype": "text/x-python",
   "name": "python",
   "nbconvert_exporter": "python",
   "pygments_lexer": "ipython3",
   "version": "3.10.12"
  }
 },
 "nbformat": 4,
 "nbformat_minor": 5
}
